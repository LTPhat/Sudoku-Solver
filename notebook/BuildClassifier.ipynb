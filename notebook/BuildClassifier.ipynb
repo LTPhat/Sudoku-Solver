{
  "cells": [
    {
      "cell_type": "markdown",
      "metadata": {
        "id": "mddNfWcWXt3G"
      },
      "source": [
        " # **BUILD CLASSIFIER ON CUSTOM DIGITAL DIGITS DATASET**"
      ]
    },
    {
      "cell_type": "code",
      "execution_count": 33,
      "metadata": {
        "id": "wOFiIPBSXsvt"
      },
      "outputs": [],
      "source": [
        "from PIL import Image, ImageFont, ImageDraw\n",
        "import random\n",
        "import glob\n",
        "import torchvision\n",
        "import torch.nn as nn\n",
        "import torchvision.transforms as transforms\n",
        "import numpy as np\n",
        "import torch.optim as optim\n",
        "import tqdm\n",
        "import time\n",
        "import copy"
      ]
    },
    {
      "cell_type": "code",
      "execution_count": 2,
      "metadata": {
        "id": "bvBmpT04MXkg"
      },
      "outputs": [],
      "source": [
        "from torch.utils.data import DataLoader, Dataset\n",
        "import torch"
      ]
    },
    {
      "cell_type": "code",
      "execution_count": 6,
      "metadata": {
        "colab": {
          "base_uri": "https://localhost:8080/"
        },
        "id": "cOYmDu-TJxck",
        "outputId": "ac4ca698-7662-4fcd-d439-86be0d1e9381"
      },
      "outputs": [
        {
          "name": "stdout",
          "output_type": "stream",
          "text": [
            "Drive already mounted at /content/drive; to attempt to forcibly remount, call drive.mount(\"/content/drive\", force_remount=True).\n"
          ]
        }
      ],
      "source": [
        "from google.colab import drive\n",
        "drive.mount('/content/drive')"
      ]
    },
    {
      "cell_type": "markdown",
      "metadata": {
        "id": "_NxucQ2OX_Y9"
      },
      "source": [
        "## **Create fontstyle list**"
      ]
    },
    {
      "cell_type": "code",
      "execution_count": 7,
      "metadata": {
        "colab": {
          "base_uri": "https://localhost:8080/"
        },
        "id": "jlRfrb_T0yuJ",
        "outputId": "46bf627b-18fe-4139-c8ad-cb9dab97dfda"
      },
      "outputs": [
        {
          "name": "stdout",
          "output_type": "stream",
          "text": [
            "['/content/drive/MyDrive/DATASET/font/arial/arial.ttf', '/content/drive/MyDrive/DATASET/font/bodoni/bodonibi.ttf', '/content/drive/MyDrive/DATASET/font/bodoni/unicode.bodoni.ttf', '/content/drive/MyDrive/DATASET/font/bodoni/Bodoni-Bold-Cyrillic.ttf', '/content/drive/MyDrive/DATASET/font/bodoni/Bodoni-Roman-font.ttf', '/content/drive/MyDrive/DATASET/font/bodoni/bodoni-bold-bt.ttf', '/content/drive/MyDrive/DATASET/font/calibri/Calibri Regular.ttf', '/content/drive/MyDrive/DATASET/font/calibri/Calibri-Bold.ttf', '/content/drive/MyDrive/DATASET/font/calibri/Calibri Bold Italic.ttf', '/content/drive/MyDrive/DATASET/font/futura/Futura-Extra-Black-font.ttf', '/content/drive/MyDrive/DATASET/font/futura/Futura-Bold-font.ttf', '/content/drive/MyDrive/DATASET/font/futura/unicode.futurab.ttf', '/content/drive/MyDrive/DATASET/font/futura/Futura Bold Italic font.ttf', '/content/drive/MyDrive/DATASET/font/futura/unicode.futurabb.ttf', '/content/drive/MyDrive/DATASET/font/futura/futur.ttf', '/content/drive/MyDrive/DATASET/font/heveltica/helvetica_bold.ttf', '/content/drive/MyDrive/DATASET/font/times-new-roman/SVN-Times-New-Roman-2-bold.ttf', '/content/drive/MyDrive/DATASET/font/times-new-roman/SVN-Times New Roman.ttf', '/content/drive/MyDrive/DATASET/font/times-new-roman/SVN-Times New Roman Bold.ttf', '/content/drive/MyDrive/DATASET/font/times-new-roman/times-new-roman.ttf', '/content/drive/MyDrive/DATASET/font/times-new-roman/times-new-roman-14.ttf', '/content/drive/MyDrive/DATASET/font/times-new-roman/times.ttf', '/content/drive/MyDrive/DATASET/font/times-new-roman/font-times-new-roman.ttf']\n",
            "<class 'str'>\n",
            "23\n"
          ]
        }
      ],
      "source": [
        "font_folder = \"/content/drive/MyDrive/DATASET/font\"\n",
        "font_name = ['arial', 'bodoni','calibri','futura','heveltica','times-new-roman']\n",
        "\n",
        "font_list = []\n",
        "for i in font_name:\n",
        "    font_dir = glob.glob(font_folder + \"/\"+ i +\"/*.ttf\")\n",
        "    for j in font_dir:\n",
        "      font_list.append(j)\n",
        "print(font_list)\n",
        "print(type(random.choice(font_list)))\n",
        "print(len(font_list))"
      ]
    },
    {
      "cell_type": "code",
      "execution_count": 8,
      "metadata": {
        "id": "0-hn8gW2Ngym"
      },
      "outputs": [],
      "source": [
        "def draw_img(label, font_list):\n",
        "  img = Image.new('L', (256, 256))\n",
        "  size = random.randint(150, 250)\n",
        "  x = random.randint(60, 90)\n",
        "  y = random.randint(30, 60)\n",
        "  draw = ImageDraw.Draw(img)\n",
        "  # font = ImageFont.truetype(, )\n",
        "  font = ImageFont.truetype(font_list[0], size)\n",
        "  draw.text((x, y), str(label), (200),font=font)\n",
        "\n",
        "  img = img.resize((28, 28), Image.BILINEAR)\n",
        "  return img, label\n",
        "\n",
        "\n"
      ]
    },
    {
      "cell_type": "markdown",
      "metadata": {
        "id": "Q8vU6PJ3YD7s"
      },
      "source": [
        "## **Define model**"
      ]
    },
    {
      "cell_type": "code",
      "execution_count": 9,
      "metadata": {
        "id": "yUss0TMDvWIJ"
      },
      "outputs": [],
      "source": [
        "def get_model(model_name, pretrained=True):\n",
        "    if model_name == \"resnet18\":\n",
        "        net = torchvision.models.resnet18(pretrained=pretrained)\n",
        "\n",
        "        # Replace 1st layer to use it on grayscale images\n",
        "        net.conv1 = nn.Conv2d(\n",
        "            1,\n",
        "            64,\n",
        "            kernel_size=(7, 7),\n",
        "            stride=(2, 2),\n",
        "            padding=(3, 3),\n",
        "            bias=False,\n",
        "        )\n",
        "        net.fc = nn.Linear(in_features=2048, out_features=10, bias=True)\n",
        "    if model_name == \"resnet50\":\n",
        "\n",
        "        net = torchvision.models.resnet50(pretrained=pretrained)\n",
        "\n",
        "        # Replace 1st layer to use it on grayscale images\n",
        "        net.conv1 = nn.Conv2d(\n",
        "            1,\n",
        "            64,\n",
        "            kernel_size=(7, 7),\n",
        "            stride=(2, 2),\n",
        "            padding=(3, 3),\n",
        "            bias=False,\n",
        "        )\n",
        "        net.fc = nn.Linear(in_features=2048, out_features=10, bias=True)\n",
        "    if model_name == \"resnet101\":\n",
        "\n",
        "        net = torchvision.models.resnet101(pretrained=pretrained)\n",
        "\n",
        "        # Replace 1st layer to use it on grayscale images\n",
        "        net.conv1 = nn.Conv2d(\n",
        "            1,\n",
        "            64,\n",
        "            kernel_size=(7, 7),\n",
        "            stride=(2, 2),\n",
        "            padding=(3, 3),\n",
        "            bias=False,\n",
        "        )\n",
        "        net.fc = nn.Linear(in_features=2048, out_features=10, bias=True)\n",
        "\n",
        "    return net"
      ]
    },
    {
      "cell_type": "code",
      "execution_count": 10,
      "metadata": {
        "colab": {
          "base_uri": "https://localhost:8080/"
        },
        "id": "wHs3TlmEipU7",
        "outputId": "bbbb4a6e-b83e-4ea3-c52b-0c9ed8f3a7c6"
      },
      "outputs": [
        {
          "name": "stderr",
          "output_type": "stream",
          "text": [
            "/usr/local/lib/python3.8/dist-packages/torchvision/models/_utils.py:208: UserWarning: The parameter 'pretrained' is deprecated since 0.13 and may be removed in the future, please use 'weights' instead.\n",
            "  warnings.warn(\n",
            "/usr/local/lib/python3.8/dist-packages/torchvision/models/_utils.py:223: UserWarning: Arguments other than a weight enum or `None` for 'weights' are deprecated since 0.13 and may be removed in the future. The current behavior is equivalent to passing `weights=ResNet50_Weights.IMAGENET1K_V1`. You can also use `weights=ResNet50_Weights.DEFAULT` to get the most up-to-date weights.\n",
            "  warnings.warn(msg)\n"
          ]
        }
      ],
      "source": [
        "batch_size = 64\n",
        "n_epochs = 10\n",
        "net = get_model(\"resnet50\")\n",
        "device = \"cuda\"\n",
        "net = net.to(device)"
      ]
    },
    {
      "cell_type": "code",
      "execution_count": 11,
      "metadata": {
        "colab": {
          "base_uri": "https://localhost:8080/"
        },
        "id": "iNf8MLB4vdZf",
        "outputId": "28058923-8656-467a-8239-24ccc399d865"
      },
      "outputs": [
        {
          "data": {
            "text/plain": [
              "ResNet(\n",
              "  (conv1): Conv2d(1, 64, kernel_size=(7, 7), stride=(2, 2), padding=(3, 3), bias=False)\n",
              "  (bn1): BatchNorm2d(64, eps=1e-05, momentum=0.1, affine=True, track_running_stats=True)\n",
              "  (relu): ReLU(inplace=True)\n",
              "  (maxpool): MaxPool2d(kernel_size=3, stride=2, padding=1, dilation=1, ceil_mode=False)\n",
              "  (layer1): Sequential(\n",
              "    (0): Bottleneck(\n",
              "      (conv1): Conv2d(64, 64, kernel_size=(1, 1), stride=(1, 1), bias=False)\n",
              "      (bn1): BatchNorm2d(64, eps=1e-05, momentum=0.1, affine=True, track_running_stats=True)\n",
              "      (conv2): Conv2d(64, 64, kernel_size=(3, 3), stride=(1, 1), padding=(1, 1), bias=False)\n",
              "      (bn2): BatchNorm2d(64, eps=1e-05, momentum=0.1, affine=True, track_running_stats=True)\n",
              "      (conv3): Conv2d(64, 256, kernel_size=(1, 1), stride=(1, 1), bias=False)\n",
              "      (bn3): BatchNorm2d(256, eps=1e-05, momentum=0.1, affine=True, track_running_stats=True)\n",
              "      (relu): ReLU(inplace=True)\n",
              "      (downsample): Sequential(\n",
              "        (0): Conv2d(64, 256, kernel_size=(1, 1), stride=(1, 1), bias=False)\n",
              "        (1): BatchNorm2d(256, eps=1e-05, momentum=0.1, affine=True, track_running_stats=True)\n",
              "      )\n",
              "    )\n",
              "    (1): Bottleneck(\n",
              "      (conv1): Conv2d(256, 64, kernel_size=(1, 1), stride=(1, 1), bias=False)\n",
              "      (bn1): BatchNorm2d(64, eps=1e-05, momentum=0.1, affine=True, track_running_stats=True)\n",
              "      (conv2): Conv2d(64, 64, kernel_size=(3, 3), stride=(1, 1), padding=(1, 1), bias=False)\n",
              "      (bn2): BatchNorm2d(64, eps=1e-05, momentum=0.1, affine=True, track_running_stats=True)\n",
              "      (conv3): Conv2d(64, 256, kernel_size=(1, 1), stride=(1, 1), bias=False)\n",
              "      (bn3): BatchNorm2d(256, eps=1e-05, momentum=0.1, affine=True, track_running_stats=True)\n",
              "      (relu): ReLU(inplace=True)\n",
              "    )\n",
              "    (2): Bottleneck(\n",
              "      (conv1): Conv2d(256, 64, kernel_size=(1, 1), stride=(1, 1), bias=False)\n",
              "      (bn1): BatchNorm2d(64, eps=1e-05, momentum=0.1, affine=True, track_running_stats=True)\n",
              "      (conv2): Conv2d(64, 64, kernel_size=(3, 3), stride=(1, 1), padding=(1, 1), bias=False)\n",
              "      (bn2): BatchNorm2d(64, eps=1e-05, momentum=0.1, affine=True, track_running_stats=True)\n",
              "      (conv3): Conv2d(64, 256, kernel_size=(1, 1), stride=(1, 1), bias=False)\n",
              "      (bn3): BatchNorm2d(256, eps=1e-05, momentum=0.1, affine=True, track_running_stats=True)\n",
              "      (relu): ReLU(inplace=True)\n",
              "    )\n",
              "  )\n",
              "  (layer2): Sequential(\n",
              "    (0): Bottleneck(\n",
              "      (conv1): Conv2d(256, 128, kernel_size=(1, 1), stride=(1, 1), bias=False)\n",
              "      (bn1): BatchNorm2d(128, eps=1e-05, momentum=0.1, affine=True, track_running_stats=True)\n",
              "      (conv2): Conv2d(128, 128, kernel_size=(3, 3), stride=(2, 2), padding=(1, 1), bias=False)\n",
              "      (bn2): BatchNorm2d(128, eps=1e-05, momentum=0.1, affine=True, track_running_stats=True)\n",
              "      (conv3): Conv2d(128, 512, kernel_size=(1, 1), stride=(1, 1), bias=False)\n",
              "      (bn3): BatchNorm2d(512, eps=1e-05, momentum=0.1, affine=True, track_running_stats=True)\n",
              "      (relu): ReLU(inplace=True)\n",
              "      (downsample): Sequential(\n",
              "        (0): Conv2d(256, 512, kernel_size=(1, 1), stride=(2, 2), bias=False)\n",
              "        (1): BatchNorm2d(512, eps=1e-05, momentum=0.1, affine=True, track_running_stats=True)\n",
              "      )\n",
              "    )\n",
              "    (1): Bottleneck(\n",
              "      (conv1): Conv2d(512, 128, kernel_size=(1, 1), stride=(1, 1), bias=False)\n",
              "      (bn1): BatchNorm2d(128, eps=1e-05, momentum=0.1, affine=True, track_running_stats=True)\n",
              "      (conv2): Conv2d(128, 128, kernel_size=(3, 3), stride=(1, 1), padding=(1, 1), bias=False)\n",
              "      (bn2): BatchNorm2d(128, eps=1e-05, momentum=0.1, affine=True, track_running_stats=True)\n",
              "      (conv3): Conv2d(128, 512, kernel_size=(1, 1), stride=(1, 1), bias=False)\n",
              "      (bn3): BatchNorm2d(512, eps=1e-05, momentum=0.1, affine=True, track_running_stats=True)\n",
              "      (relu): ReLU(inplace=True)\n",
              "    )\n",
              "    (2): Bottleneck(\n",
              "      (conv1): Conv2d(512, 128, kernel_size=(1, 1), stride=(1, 1), bias=False)\n",
              "      (bn1): BatchNorm2d(128, eps=1e-05, momentum=0.1, affine=True, track_running_stats=True)\n",
              "      (conv2): Conv2d(128, 128, kernel_size=(3, 3), stride=(1, 1), padding=(1, 1), bias=False)\n",
              "      (bn2): BatchNorm2d(128, eps=1e-05, momentum=0.1, affine=True, track_running_stats=True)\n",
              "      (conv3): Conv2d(128, 512, kernel_size=(1, 1), stride=(1, 1), bias=False)\n",
              "      (bn3): BatchNorm2d(512, eps=1e-05, momentum=0.1, affine=True, track_running_stats=True)\n",
              "      (relu): ReLU(inplace=True)\n",
              "    )\n",
              "    (3): Bottleneck(\n",
              "      (conv1): Conv2d(512, 128, kernel_size=(1, 1), stride=(1, 1), bias=False)\n",
              "      (bn1): BatchNorm2d(128, eps=1e-05, momentum=0.1, affine=True, track_running_stats=True)\n",
              "      (conv2): Conv2d(128, 128, kernel_size=(3, 3), stride=(1, 1), padding=(1, 1), bias=False)\n",
              "      (bn2): BatchNorm2d(128, eps=1e-05, momentum=0.1, affine=True, track_running_stats=True)\n",
              "      (conv3): Conv2d(128, 512, kernel_size=(1, 1), stride=(1, 1), bias=False)\n",
              "      (bn3): BatchNorm2d(512, eps=1e-05, momentum=0.1, affine=True, track_running_stats=True)\n",
              "      (relu): ReLU(inplace=True)\n",
              "    )\n",
              "  )\n",
              "  (layer3): Sequential(\n",
              "    (0): Bottleneck(\n",
              "      (conv1): Conv2d(512, 256, kernel_size=(1, 1), stride=(1, 1), bias=False)\n",
              "      (bn1): BatchNorm2d(256, eps=1e-05, momentum=0.1, affine=True, track_running_stats=True)\n",
              "      (conv2): Conv2d(256, 256, kernel_size=(3, 3), stride=(2, 2), padding=(1, 1), bias=False)\n",
              "      (bn2): BatchNorm2d(256, eps=1e-05, momentum=0.1, affine=True, track_running_stats=True)\n",
              "      (conv3): Conv2d(256, 1024, kernel_size=(1, 1), stride=(1, 1), bias=False)\n",
              "      (bn3): BatchNorm2d(1024, eps=1e-05, momentum=0.1, affine=True, track_running_stats=True)\n",
              "      (relu): ReLU(inplace=True)\n",
              "      (downsample): Sequential(\n",
              "        (0): Conv2d(512, 1024, kernel_size=(1, 1), stride=(2, 2), bias=False)\n",
              "        (1): BatchNorm2d(1024, eps=1e-05, momentum=0.1, affine=True, track_running_stats=True)\n",
              "      )\n",
              "    )\n",
              "    (1): Bottleneck(\n",
              "      (conv1): Conv2d(1024, 256, kernel_size=(1, 1), stride=(1, 1), bias=False)\n",
              "      (bn1): BatchNorm2d(256, eps=1e-05, momentum=0.1, affine=True, track_running_stats=True)\n",
              "      (conv2): Conv2d(256, 256, kernel_size=(3, 3), stride=(1, 1), padding=(1, 1), bias=False)\n",
              "      (bn2): BatchNorm2d(256, eps=1e-05, momentum=0.1, affine=True, track_running_stats=True)\n",
              "      (conv3): Conv2d(256, 1024, kernel_size=(1, 1), stride=(1, 1), bias=False)\n",
              "      (bn3): BatchNorm2d(1024, eps=1e-05, momentum=0.1, affine=True, track_running_stats=True)\n",
              "      (relu): ReLU(inplace=True)\n",
              "    )\n",
              "    (2): Bottleneck(\n",
              "      (conv1): Conv2d(1024, 256, kernel_size=(1, 1), stride=(1, 1), bias=False)\n",
              "      (bn1): BatchNorm2d(256, eps=1e-05, momentum=0.1, affine=True, track_running_stats=True)\n",
              "      (conv2): Conv2d(256, 256, kernel_size=(3, 3), stride=(1, 1), padding=(1, 1), bias=False)\n",
              "      (bn2): BatchNorm2d(256, eps=1e-05, momentum=0.1, affine=True, track_running_stats=True)\n",
              "      (conv3): Conv2d(256, 1024, kernel_size=(1, 1), stride=(1, 1), bias=False)\n",
              "      (bn3): BatchNorm2d(1024, eps=1e-05, momentum=0.1, affine=True, track_running_stats=True)\n",
              "      (relu): ReLU(inplace=True)\n",
              "    )\n",
              "    (3): Bottleneck(\n",
              "      (conv1): Conv2d(1024, 256, kernel_size=(1, 1), stride=(1, 1), bias=False)\n",
              "      (bn1): BatchNorm2d(256, eps=1e-05, momentum=0.1, affine=True, track_running_stats=True)\n",
              "      (conv2): Conv2d(256, 256, kernel_size=(3, 3), stride=(1, 1), padding=(1, 1), bias=False)\n",
              "      (bn2): BatchNorm2d(256, eps=1e-05, momentum=0.1, affine=True, track_running_stats=True)\n",
              "      (conv3): Conv2d(256, 1024, kernel_size=(1, 1), stride=(1, 1), bias=False)\n",
              "      (bn3): BatchNorm2d(1024, eps=1e-05, momentum=0.1, affine=True, track_running_stats=True)\n",
              "      (relu): ReLU(inplace=True)\n",
              "    )\n",
              "    (4): Bottleneck(\n",
              "      (conv1): Conv2d(1024, 256, kernel_size=(1, 1), stride=(1, 1), bias=False)\n",
              "      (bn1): BatchNorm2d(256, eps=1e-05, momentum=0.1, affine=True, track_running_stats=True)\n",
              "      (conv2): Conv2d(256, 256, kernel_size=(3, 3), stride=(1, 1), padding=(1, 1), bias=False)\n",
              "      (bn2): BatchNorm2d(256, eps=1e-05, momentum=0.1, affine=True, track_running_stats=True)\n",
              "      (conv3): Conv2d(256, 1024, kernel_size=(1, 1), stride=(1, 1), bias=False)\n",
              "      (bn3): BatchNorm2d(1024, eps=1e-05, momentum=0.1, affine=True, track_running_stats=True)\n",
              "      (relu): ReLU(inplace=True)\n",
              "    )\n",
              "    (5): Bottleneck(\n",
              "      (conv1): Conv2d(1024, 256, kernel_size=(1, 1), stride=(1, 1), bias=False)\n",
              "      (bn1): BatchNorm2d(256, eps=1e-05, momentum=0.1, affine=True, track_running_stats=True)\n",
              "      (conv2): Conv2d(256, 256, kernel_size=(3, 3), stride=(1, 1), padding=(1, 1), bias=False)\n",
              "      (bn2): BatchNorm2d(256, eps=1e-05, momentum=0.1, affine=True, track_running_stats=True)\n",
              "      (conv3): Conv2d(256, 1024, kernel_size=(1, 1), stride=(1, 1), bias=False)\n",
              "      (bn3): BatchNorm2d(1024, eps=1e-05, momentum=0.1, affine=True, track_running_stats=True)\n",
              "      (relu): ReLU(inplace=True)\n",
              "    )\n",
              "  )\n",
              "  (layer4): Sequential(\n",
              "    (0): Bottleneck(\n",
              "      (conv1): Conv2d(1024, 512, kernel_size=(1, 1), stride=(1, 1), bias=False)\n",
              "      (bn1): BatchNorm2d(512, eps=1e-05, momentum=0.1, affine=True, track_running_stats=True)\n",
              "      (conv2): Conv2d(512, 512, kernel_size=(3, 3), stride=(2, 2), padding=(1, 1), bias=False)\n",
              "      (bn2): BatchNorm2d(512, eps=1e-05, momentum=0.1, affine=True, track_running_stats=True)\n",
              "      (conv3): Conv2d(512, 2048, kernel_size=(1, 1), stride=(1, 1), bias=False)\n",
              "      (bn3): BatchNorm2d(2048, eps=1e-05, momentum=0.1, affine=True, track_running_stats=True)\n",
              "      (relu): ReLU(inplace=True)\n",
              "      (downsample): Sequential(\n",
              "        (0): Conv2d(1024, 2048, kernel_size=(1, 1), stride=(2, 2), bias=False)\n",
              "        (1): BatchNorm2d(2048, eps=1e-05, momentum=0.1, affine=True, track_running_stats=True)\n",
              "      )\n",
              "    )\n",
              "    (1): Bottleneck(\n",
              "      (conv1): Conv2d(2048, 512, kernel_size=(1, 1), stride=(1, 1), bias=False)\n",
              "      (bn1): BatchNorm2d(512, eps=1e-05, momentum=0.1, affine=True, track_running_stats=True)\n",
              "      (conv2): Conv2d(512, 512, kernel_size=(3, 3), stride=(1, 1), padding=(1, 1), bias=False)\n",
              "      (bn2): BatchNorm2d(512, eps=1e-05, momentum=0.1, affine=True, track_running_stats=True)\n",
              "      (conv3): Conv2d(512, 2048, kernel_size=(1, 1), stride=(1, 1), bias=False)\n",
              "      (bn3): BatchNorm2d(2048, eps=1e-05, momentum=0.1, affine=True, track_running_stats=True)\n",
              "      (relu): ReLU(inplace=True)\n",
              "    )\n",
              "    (2): Bottleneck(\n",
              "      (conv1): Conv2d(2048, 512, kernel_size=(1, 1), stride=(1, 1), bias=False)\n",
              "      (bn1): BatchNorm2d(512, eps=1e-05, momentum=0.1, affine=True, track_running_stats=True)\n",
              "      (conv2): Conv2d(512, 512, kernel_size=(3, 3), stride=(1, 1), padding=(1, 1), bias=False)\n",
              "      (bn2): BatchNorm2d(512, eps=1e-05, momentum=0.1, affine=True, track_running_stats=True)\n",
              "      (conv3): Conv2d(512, 2048, kernel_size=(1, 1), stride=(1, 1), bias=False)\n",
              "      (bn3): BatchNorm2d(2048, eps=1e-05, momentum=0.1, affine=True, track_running_stats=True)\n",
              "      (relu): ReLU(inplace=True)\n",
              "    )\n",
              "  )\n",
              "  (avgpool): AdaptiveAvgPool2d(output_size=(1, 1))\n",
              "  (fc): Linear(in_features=2048, out_features=10, bias=True)\n",
              ")"
            ]
          },
          "execution_count": 11,
          "metadata": {},
          "output_type": "execute_result"
        }
      ],
      "source": [
        "net"
      ]
    },
    {
      "cell_type": "markdown",
      "metadata": {
        "id": "UxtPWiewYKEO"
      },
      "source": [
        "## **Create dataset**"
      ]
    },
    {
      "cell_type": "code",
      "execution_count": 12,
      "metadata": {
        "id": "0CpvKGKRNF6n"
      },
      "outputs": [],
      "source": [
        "from torch.utils.data import Dataset\n",
        "\n",
        "import torch\n",
        "\n",
        "from PIL import Image\n",
        "from PIL import ImageFont\n",
        "from PIL import ImageDraw\n",
        "\n",
        "import glob\n",
        "import random\n",
        "\n",
        "\n",
        "# class AddSPNoise(object):\n",
        "#     def __init__(self, prob):\n",
        "#         self.prob = prob\n",
        "\n",
        "#     def __call__(self, tensor):\n",
        "#         sp = (torch.rand(tensor.size()) < self.prob) * tensor.max()\n",
        "#         return tensor + sp\n",
        "\n",
        "#     def __repr__(self):\n",
        "#         return self.__class__.__name__ + \"(prob={0})\".format(self.prob)\n",
        "\n",
        "\n",
        "# class AddGaussianNoise(object):\n",
        "#     def __init__(self, mean=0.0, std=1.0):\n",
        "#         self.mean = mean\n",
        "#         self.std = std\n",
        "\n",
        "#     def __call__(self, tensor):\n",
        "#         return tensor + torch.randn(tensor.size()) * self.std + self.mean\n",
        "\n",
        "#     def __repr__(self):\n",
        "#         return self.__class__.__name__ + \"(mean={0}, std={1})\".format(\n",
        "#             self.mean, self.std\n",
        "#         )\n",
        "\n",
        "\n",
        "class PrintedMNIST(Dataset):\n",
        "    \"\"\"Generates images containing a single digit from font\"\"\"\n",
        "\n",
        "    def __init__(self, N, random_state, transform=None):\n",
        "        \"\"\"\"\"\"\n",
        "        self.N = N\n",
        "        self.random_state = random_state\n",
        "        self.transform = transform\n",
        "\n",
        "        fonts_folder = \"fonts\"\n",
        "\n",
        "        # self.fonts = [\"Helvetica-Bold-Font.ttf\", 'arial-bold.ttf']\n",
        "        self.fonts = font_list\n",
        "\n",
        "        random.seed(random_state)\n",
        "\n",
        "    def __len__(self):\n",
        "        return self.N\n",
        "\n",
        "    def __getitem__(self, idx):\n",
        "\n",
        "        target = random.randint(0, 9)\n",
        "\n",
        "        size = random.randint(150, 250)\n",
        "        x = random.randint(30, 90)\n",
        "        y = random.randint(30, 90)\n",
        "\n",
        "        color = random.randint(200, 255)\n",
        "\n",
        "        # Generate image\n",
        "        img = Image.new(\"L\", (256, 256))\n",
        "\n",
        "        target = random.randint(0, 9)\n",
        "\n",
        "        size = random.randint(180, 220)\n",
        "        x = random.randint(60, 80)\n",
        "        y = random.randint(30, 60)\n",
        "\n",
        "        draw = ImageDraw.Draw(img)\n",
        "        font = ImageFont.truetype(random.choice(self.fonts), size)\n",
        "        draw.text((x, y), str(target), color, font=font)\n",
        "\n",
        "        img = img.resize((28, 28), Image.BILINEAR)\n",
        "\n",
        "        if self.transform:\n",
        "            img = self.transform(img)\n",
        "\n",
        "        return img, target"
      ]
    },
    {
      "cell_type": "markdown",
      "metadata": {
        "id": "LezKBnaZYO-g"
      },
      "source": [
        "## **Load dataset**"
      ]
    },
    {
      "cell_type": "code",
      "execution_count": 13,
      "metadata": {
        "id": "mjfP9NJzil3N"
      },
      "outputs": [],
      "source": [
        "train_transform = transforms.Compose([\n",
        "        transforms.RandomRotation(10),\n",
        "        transforms.ToTensor(),\n",
        "        # AddGaussianNoise(0, 1.0),\n",
        "        # AddSPNoise(0.1),\n",
        "\n",
        "    ])\n",
        "\n",
        "val_transforms = transforms.Compose([transforms.ToTensor()])\n",
        "\n",
        "train_set = PrintedMNIST(50000, 42, train_transform)\n",
        "val_set = PrintedMNIST(5000, 33, val_transforms)\n",
        "\n",
        "train_loader = DataLoader(train_set, batch_size=batch_size)\n",
        "val_loader = DataLoader(val_set, batch_size=batch_size)\n",
        "\n",
        "device = \"cuda\""
      ]
    },
    {
      "cell_type": "code",
      "execution_count": 14,
      "metadata": {
        "id": "WFlErB9kh6zc"
      },
      "outputs": [],
      "source": [
        "criterion = nn.CrossEntropyLoss()\n",
        "optimizer = optim.Adam(net.parameters(), lr=1e-3)"
      ]
    },
    {
      "cell_type": "code",
      "execution_count": 15,
      "metadata": {
        "id": "8-RdldrNf9Ee"
      },
      "outputs": [],
      "source": [
        "# Function for train and validation\n",
        "def train(model, criterion, optimizer, num_epochs):\n",
        "    since = time.time()\n",
        "    best_model_wts = copy.deepcopy(model.state_dict())\n",
        "    best_acc = 0.0\n",
        "    train_loss_track = []\n",
        "    train_acc_track = []\n",
        "    val_loss_track = []\n",
        "    val_acc_track = []\n",
        "    for epoch in range(num_epochs):\n",
        "        print(f'Epoch {epoch + 1}/{num_epochs}')\n",
        "        print('-' * 10)\n",
        "\n",
        "        # Training loop\n",
        "        train_loss, train_correct = 0, 0  \n",
        "        model.train()  \n",
        "        for batch in train_loader:\n",
        "            images, labels = batch[0].to(device), batch[1].to(device)  # load the batch to the available device (cpu/gpu)\n",
        "            outputs = model(images)  \n",
        "            loss = criterion(outputs, labels)\n",
        "            preds = outputs.argmax(dim=1).cpu().numpy()\n",
        "            optimizer.zero_grad()   \n",
        "            loss.backward()  \n",
        "            optimizer.step()  \n",
        "            np_labels_train = labels.cpu().numpy()\n",
        "            train_loss += loss.item() * batch_size  \n",
        "            train_correct += np.sum(preds == np_labels_train)\n",
        "        train_loss_avg = train_loss/len(train_loader.sampler)\n",
        "        train_acc_avg = train_correct/len(train_loader.sampler)\n",
        "        print('Train Loss: ',train_loss_avg)  \n",
        "        print('Train Accuracy: ', train_acc_avg)\n",
        "        train_loss_track.append(train_loss_avg)\n",
        "        train_acc_track.append(train_acc_avg)\n",
        "\n",
        "        #Validation loop\n",
        "        model.eval()  \n",
        "        with torch.no_grad(): \n",
        "            valid_loss, valid_correct = 0, 0 \n",
        "\n",
        "            for batch in val_loader:\n",
        "                images, labels = batch[0].to(device), batch[1].to(device)  # load the batch to the available device\n",
        "                outputs = model(images)  \n",
        "                loss = criterion(outputs, labels)  \n",
        "                preds = outputs.argmax(dim=1).cpu().numpy()\n",
        "                np_label_val = labels.cpu().numpy()\n",
        "                valid_loss += loss.item() * batch_size  \n",
        "                valid_correct += np.sum(preds == np_label_val)\n",
        "            if valid_correct > best_acc:\n",
        "                best_acc = valid_correct\n",
        "                best_model_wts = copy.deepcopy(model.state_dict())\n",
        "            valid_loss_avg = valid_loss/len(val_loader.sampler)\n",
        "            valid_acc_avg = valid_correct/len(val_loader.sampler)\n",
        "            print('Validation Loss: ', valid_loss_avg)  \n",
        "            print('Validation Accuracy: ',valid_acc_avg)\n",
        "            val_loss_track.append(valid_loss_avg)\n",
        "            val_acc_track.append(valid_acc_avg)\n",
        "            # early_stopping(train_loss_avg, valid_loss_avg)\n",
        "            # if early_stopping.early_stop:\n",
        "            #     print(\"Early Stopping at epoch: {}:\".format(epoch+1))\n",
        "            #     break\n",
        "    # Return model with best metrics          \n",
        "    model.load_state_dict(best_model_wts)\n",
        "    return model, train_loss_track, train_acc_track, val_loss_track, val_acc_track"
      ]
    },
    {
      "cell_type": "code",
      "execution_count": 16,
      "metadata": {
        "colab": {
          "base_uri": "https://localhost:8080/"
        },
        "id": "glvW-ISNMIGN",
        "outputId": "c974f7ad-d693-4a96-ce1a-f357e4170fe6"
      },
      "outputs": [
        {
          "name": "stdout",
          "output_type": "stream",
          "text": [
            "Epoch 1/10\n",
            "----------\n",
            "Train Loss:  0.14419981136314572\n",
            "Train Accuracy:  0.9553\n",
            "Validation Loss:  0.024375698326528073\n",
            "Validation Accuracy:  0.9922\n",
            "Epoch 2/10\n",
            "----------\n",
            "Train Loss:  0.02427929316084832\n",
            "Train Accuracy:  0.99386\n",
            "Validation Loss:  0.030028793330769986\n",
            "Validation Accuracy:  0.992\n",
            "Epoch 3/10\n",
            "----------\n",
            "Train Loss:  0.019452522485619413\n",
            "Train Accuracy:  0.99514\n",
            "Validation Loss:  0.0006128473546355963\n",
            "Validation Accuracy:  0.9996\n",
            "Epoch 4/10\n",
            "----------\n",
            "Train Loss:  0.04212314803523012\n",
            "Train Accuracy:  0.98974\n",
            "Validation Loss:  0.00012466056644916534\n",
            "Validation Accuracy:  1.0\n",
            "Epoch 5/10\n",
            "----------\n",
            "Train Loss:  0.01435486262941733\n",
            "Train Accuracy:  0.99664\n",
            "Validation Loss:  0.00018648230514954777\n",
            "Validation Accuracy:  1.0\n",
            "Epoch 6/10\n",
            "----------\n",
            "Train Loss:  0.050513920693998224\n",
            "Train Accuracy:  0.99094\n",
            "Validation Loss:  9.804461416788399e-05\n",
            "Validation Accuracy:  1.0\n",
            "Epoch 7/10\n",
            "----------\n",
            "Train Loss:  0.04662794794024899\n",
            "Train Accuracy:  0.98892\n",
            "Validation Loss:  0.0019609983132686465\n",
            "Validation Accuracy:  0.9996\n",
            "Epoch 8/10\n",
            "----------\n",
            "Train Loss:  0.008479635834943038\n",
            "Train Accuracy:  0.99822\n",
            "Validation Loss:  0.00019603925343835725\n",
            "Validation Accuracy:  1.0\n",
            "Epoch 9/10\n",
            "----------\n",
            "Train Loss:  0.007633687562631676\n",
            "Train Accuracy:  0.9978\n",
            "Validation Loss:  2.2005630773492158e-05\n",
            "Validation Accuracy:  1.0\n",
            "Epoch 10/10\n",
            "----------\n",
            "Train Loss:  0.010027424053991563\n",
            "Train Accuracy:  0.99856\n",
            "Validation Loss:  4.3817585264332594e-05\n",
            "Validation Accuracy:  1.0\n"
          ]
        }
      ],
      "source": [
        "model, train_loss, train_acc, val_loss, val_acc = train(net, criterion, optimizer, n_epochs)"
      ]
    },
    {
      "cell_type": "markdown",
      "metadata": {
        "id": "XEl2FkKGYWFV"
      },
      "source": [
        "## **Evaluation**"
      ]
    },
    {
      "cell_type": "code",
      "execution_count": 19,
      "metadata": {
        "id": "vakuM6HJJlmC"
      },
      "outputs": [],
      "source": [
        "import matplotlib.pyplot as plt"
      ]
    },
    {
      "cell_type": "code",
      "execution_count": 20,
      "metadata": {
        "colab": {
          "base_uri": "https://localhost:8080/",
          "height": 320
        },
        "id": "iR7gK-zfJhLb",
        "outputId": "01b06e03-367b-483c-cf65-128a830b412c"
      },
      "outputs": [
        {
          "name": "stdout",
          "output_type": "stream",
          "text": [
            "Feature batch shape: torch.Size([64, 1, 28, 28])\n",
            "Labels batch shape: torch.Size([64])\n"
          ]
        },
        {
          "data": {
            "image/png": "[encoded data removed]",
            "text/plain": [
              "<Figure size 432x288 with 1 Axes>"
            ]
          },
          "metadata": {
            "needs_background": "light"
          },
          "output_type": "display_data"
        },
        {
          "name": "stdout",
          "output_type": "stream",
          "text": [
            "Label: 7\n"
          ]
        }
      ],
      "source": [
        "train_features, train_labels = next(iter(train_loader))\n",
        "print(f\"Feature batch shape: {train_features.size()}\")\n",
        "print(f\"Labels batch shape: {train_labels.size()}\")\n",
        "img = train_features[0].squeeze()\n",
        "label = train_labels[0]\n",
        "plt.imshow(img, cmap=\"gray\")\n",
        "plt.show()\n",
        "print(f\"Label: {label}\")"
      ]
    },
    {
      "cell_type": "code",
      "execution_count": 22,
      "metadata": {
        "colab": {
          "base_uri": "https://localhost:8080/",
          "height": 364
        },
        "id": "dsNE1biGHK_s",
        "outputId": "36b6625c-040c-48fd-e188-48a152998644"
      },
      "outputs": [
        {
          "data": {
            "image/png": "[encoded data removed]",
            "text/plain": [
              "<Figure size 1080x432 with 2 Axes>"
            ]
          },
          "metadata": {
            "needs_background": "light"
          },
          "output_type": "display_data"
        }
      ],
      "source": [
        "# Show train, val loss and accuracy\n",
        "# Accuracy curve\n",
        "fig, ag = plt.subplots(1,2,figsize = (15,6))\n",
        "ag[0].plot(train_loss,label = 'train')\n",
        "ag[0].plot(val_loss,label = 'val')\n",
        "ag[0].legend()\n",
        "ag[0].set_title('Loss versus epochs')\n",
        "\n",
        "ag[1].plot(train_acc,label='train')\n",
        "ag[1].plot(val_acc,label='test')\n",
        "ag[1].legend()\n",
        "ag[1].set_title('Accuracy versus epochs')\n",
        "plt.show()"
      ]
    },
    {
      "cell_type": "code",
      "execution_count": 26,
      "metadata": {
        "id": "aRSGh4loWsyY"
      },
      "outputs": [],
      "source": [
        "# Function to predict on random selected batch of images\n",
        "def predict_batch(model, data_loader):\n",
        "    #Random batch index\n",
        "    batch_id = np.random.randint(0, len(data_loader))\n",
        "    for index, batch in enumerate(data_loader):\n",
        "        if index == batch_id:\n",
        "            inputs, labels = batch[0], batch[1]\n",
        "    model = model.to(device)\n",
        "    inputs = inputs.to(device)\n",
        "    outputs = model(inputs)\n",
        "    preds = outputs.argmax(dim=1)\n",
        "    preds=preds.cpu().numpy()\n",
        "    labels=labels.numpy()\n",
        "    return inputs, preds, labels"
      ]
    },
    {
      "cell_type": "code",
      "execution_count": 27,
      "metadata": {
        "id": "TlUdBjPfW6nO"
      },
      "outputs": [],
      "source": [
        "inputs, preds, labels = predict_batch(model, val_loader)\n"
      ]
    },
    {
      "cell_type": "code",
      "execution_count": 32,
      "metadata": {
        "colab": {
          "base_uri": "https://localhost:8080/"
        },
        "id": "UxTckl56XII_",
        "outputId": "b69a5d6c-07e0-4006-a25e-58cf36b1a289"
      },
      "outputs": [
        {
          "name": "stdout",
          "output_type": "stream",
          "text": [
            "[6 9 9 4 6 4 3 2 7 4 5 6 1 5 0 4 3 4 1 8 2 7 1 7 0 1 0 5 3 6 9 9 5 2 4 8 5\n",
            " 8 6 2 0 1 9 5 4 5 5 0 4 0 7 0 6 4 8 3 6 6 3 2 1 2 8 0]\n",
            "[6 9 9 4 6 4 3 2 7 4 5 6 1 5 0 4 3 4 1 8 2 7 1 7 0 1 0 5 3 6 9 9 5 2 4 8 5\n",
            " 8 6 2 0 1 9 5 4 5 5 0 4 0 7 0 6 4 8 3 6 6 3 2 1 2 8 0]\n",
            "Acc on batch: 64/64\n"
          ]
        }
      ],
      "source": [
        "print(preds)\n",
        "print(labels)\n",
        "print(\"Acc on batch: {}/{}\".format(np.sum(preds == labels),len(labels)))"
      ]
    },
    {
      "cell_type": "markdown",
      "metadata": {
        "id": "GG9Q_A4BYYql"
      },
      "source": [
        "## **Save model**"
      ]
    },
    {
      "cell_type": "code",
      "execution_count": 34,
      "metadata": {
        "id": "kY49kbQzXTGi"
      },
      "outputs": [],
      "source": [
        "torch.save(model, \"/content/drive/MyDrive/DATASET/digital_digits/digit_classifier.h5\")"
      ]
    }
  ],
  "metadata": {
    "accelerator": "GPU",
    "colab": {
      "provenance": []
    },
    "gpuClass": "standard",
    "kernelspec": {
      "display_name": "Python 3",
      "language": "python",
      "name": "python3"
    },
    "language_info": {
      "name": "python",
      "version": "3.10.1 (tags/v3.10.1:2cd268a, Dec  6 2021, 19:10:37) [MSC v.1929 64 bit (AMD64)]"
    },
    "vscode": {
      "interpreter": {
        "hash": "a9cff5a362bc38ef45d817ae74b1af54d6a076e3d773891282bce078b815ba34"
      }
    }
  },
  "nbformat": 4,
  "nbformat_minor": 0
}
